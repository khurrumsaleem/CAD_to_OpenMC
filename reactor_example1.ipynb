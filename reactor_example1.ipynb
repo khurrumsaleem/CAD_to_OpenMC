{
 "cells": [
  {
   "cell_type": "code",
   "execution_count": null,
   "id": "1974d5a5-c34f-40dd-bbcc-7fdb80ba5102",
   "metadata": {},
   "outputs": [],
   "source": [
    "!pip install -r requirements.txt"
   ]
  },
  {
   "cell_type": "code",
   "execution_count": null,
   "id": "3cb5f805-5460-46b4-afc6-3cbeb878fabf",
   "metadata": {},
   "outputs": [],
   "source": [
    "import CAD_to_OpenMC.assembly as ab"
   ]
  },
  {
   "cell_type": "code",
   "execution_count": null,
   "id": "30880fab-b2a3-463e-8fbd-ece3e978f0aa",
   "metadata": {},
   "outputs": [],
   "source": [
    "A=ab.Assembly([\"examples/step_files/reactor_test1.step\"])"
   ]
  },
  {
   "cell_type": "code",
   "execution_count": null,
   "id": "84df29de-04b9-44e3-9d29-872b74f4e97a",
   "metadata": {},
   "outputs": [],
   "source": [
    "A.import_stp_files()"
   ]
  },
  {
   "cell_type": "code",
   "execution_count": null,
   "id": "5577ac46-7a57-4a99-98ca-10b2c06e98ce",
   "metadata": {},
   "outputs": [],
   "source": [
    "A.solids_to_h5m(h5m_filename=\"reactor_test1.h5m\", backend=\"stl2\")"
   ]
  },
  {
   "cell_type": "code",
   "execution_count": null,
   "id": "880b2d04-a5ee-4b69-a586-41f068e5851b",
   "metadata": {},
   "outputs": [],
   "source": [
    "pip install openmc"
   ]
  },
  {
   "cell_type": "code",
   "execution_count": null,
   "id": "b5408f21-b8f9-4dd2-aa42-ac7b4591d8a1",
   "metadata": {},
   "outputs": [],
   "source": []
  }
 ],
 "metadata": {
  "kernelspec": {
   "display_name": "Python 3 (ipykernel)",
   "language": "python",
   "name": "python3"
  },
  "language_info": {
   "codemirror_mode": {
    "name": "ipython",
    "version": 3
   },
   "file_extension": ".py",
   "mimetype": "text/x-python",
   "name": "python",
   "nbconvert_exporter": "python",
   "pygments_lexer": "ipython3",
   "version": "3.11.8"
  }
 },
 "nbformat": 4,
 "nbformat_minor": 5
}
