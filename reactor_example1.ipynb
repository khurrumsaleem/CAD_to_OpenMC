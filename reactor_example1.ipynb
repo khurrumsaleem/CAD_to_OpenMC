{
 "cells": [
  {
   "cell_type": "code",
   "execution_count": 1,
   "id": "1974d5a5-c34f-40dd-bbcc-7fdb80ba5102",
   "metadata": {},
   "outputs": [
    {
     "name": "stdout",
     "output_type": "stream",
     "text": [
      "Collecting gmsh (from -r requirements.txt (line 1))\n",
      "  Downloading gmsh-4.13.1-py2.py3-none-manylinux_2_24_x86_64.whl.metadata (1.7 kB)\n",
      "Requirement already satisfied: pyparsing in /home/erkn/micromamba/envs/jlab/lib/python3.11/site-packages (from -r requirements.txt (line 2)) (3.2.1)\n",
      "Requirement already satisfied: cadquery>=2.2.0 in /home/erkn/micromamba/envs/jlab/lib/python3.11/site-packages (from -r requirements.txt (line 3)) (2.5.2)\n",
      "Collecting cadquery-ocp>=7.7.0 (from -r requirements.txt (line 4))\n",
      "  Downloading cadquery_ocp-7.8.1.1.post1-cp311-cp311-manylinux_2_31_x86_64.whl.metadata (707 bytes)\n",
      "Requirement already satisfied: numpy<2.0a0 in /home/erkn/micromamba/envs/jlab/lib/python3.11/site-packages (from -r requirements.txt (line 5)) (1.26.4)\n",
      "Requirement already satisfied: trimesh in /home/erkn/micromamba/envs/jlab/lib/python3.11/site-packages (from -r requirements.txt (line 6)) (4.6.0)\n",
      "Requirement already satisfied: networkx in /home/erkn/micromamba/envs/jlab/lib/python3.11/site-packages (from -r requirements.txt (line 7)) (3.4.2)\n",
      "Requirement already satisfied: unidecode in /home/erkn/micromamba/envs/jlab/lib/python3.11/site-packages (from -r requirements.txt (line 8)) (1.3.8)\n",
      "Collecting Cython (from -r requirements.txt (line 9))\n",
      "  Downloading Cython-3.0.12-cp311-cp311-manylinux_2_17_x86_64.manylinux2014_x86_64.whl.metadata (3.3 kB)\n",
      "Collecting vtk==9.3.1 (from cadquery-ocp>=7.7.0->-r requirements.txt (line 4))\n",
      "  Downloading vtk-9.3.1-cp311-cp311-manylinux_2_17_x86_64.manylinux2014_x86_64.whl.metadata (5.2 kB)\n",
      "Requirement already satisfied: matplotlib>=2.0.0 in /home/erkn/micromamba/envs/jlab/lib/python3.11/site-packages (from vtk==9.3.1->cadquery-ocp>=7.7.0->-r requirements.txt (line 4)) (3.10.0)\n",
      "Requirement already satisfied: contourpy>=1.0.1 in /home/erkn/micromamba/envs/jlab/lib/python3.11/site-packages (from matplotlib>=2.0.0->vtk==9.3.1->cadquery-ocp>=7.7.0->-r requirements.txt (line 4)) (1.3.1)\n",
      "Requirement already satisfied: cycler>=0.10 in /home/erkn/micromamba/envs/jlab/lib/python3.11/site-packages (from matplotlib>=2.0.0->vtk==9.3.1->cadquery-ocp>=7.7.0->-r requirements.txt (line 4)) (0.12.1)\n",
      "Requirement already satisfied: fonttools>=4.22.0 in /home/erkn/micromamba/envs/jlab/lib/python3.11/site-packages (from matplotlib>=2.0.0->vtk==9.3.1->cadquery-ocp>=7.7.0->-r requirements.txt (line 4)) (4.55.6)\n",
      "Requirement already satisfied: kiwisolver>=1.3.1 in /home/erkn/micromamba/envs/jlab/lib/python3.11/site-packages (from matplotlib>=2.0.0->vtk==9.3.1->cadquery-ocp>=7.7.0->-r requirements.txt (line 4)) (1.4.7)\n",
      "Requirement already satisfied: packaging>=20.0 in /home/erkn/micromamba/envs/jlab/lib/python3.11/site-packages (from matplotlib>=2.0.0->vtk==9.3.1->cadquery-ocp>=7.7.0->-r requirements.txt (line 4)) (24.2)\n",
      "Requirement already satisfied: pillow>=8 in /home/erkn/micromamba/envs/jlab/lib/python3.11/site-packages (from matplotlib>=2.0.0->vtk==9.3.1->cadquery-ocp>=7.7.0->-r requirements.txt (line 4)) (10.0.0)\n",
      "Requirement already satisfied: python-dateutil>=2.7 in /home/erkn/micromamba/envs/jlab/lib/python3.11/site-packages (from matplotlib>=2.0.0->vtk==9.3.1->cadquery-ocp>=7.7.0->-r requirements.txt (line 4)) (2.9.0.post0)\n",
      "Requirement already satisfied: six>=1.5 in /home/erkn/micromamba/envs/jlab/lib/python3.11/site-packages (from python-dateutil>=2.7->matplotlib>=2.0.0->vtk==9.3.1->cadquery-ocp>=7.7.0->-r requirements.txt (line 4)) (1.17.0)\n",
      "Downloading gmsh-4.13.1-py2.py3-none-manylinux_2_24_x86_64.whl (39.8 MB)\n",
      "\u001b[2K   \u001b[38;2;114;156;31m━━━━━━━━━━━━━━━━━━━━━━━━━━━━━━━━━━━━━━━━\u001b[0m \u001b[32m39.8/39.8 MB\u001b[0m \u001b[31m3.5 MB/s\u001b[0m eta \u001b[36m0:00:00\u001b[0mm eta \u001b[36m0:00:01\u001b[0m0:01\u001b[0m:02\u001b[0m\n",
      "Downloading cadquery_ocp-7.8.1.1.post1-cp311-cp311-manylinux_2_31_x86_64.whl (70.2 MB)\n",
      "\u001b[2K   \u001b[38;2;114;156;31m━━━━━━━━━━━━━━━━━━━━━━━━━━━━━━━━━━━━━━━━\u001b[0m \u001b[32m70.2/70.2 MB\u001b[0m \u001b[31m10.9 MB/s\u001b[0m eta \u001b[36m0:00:00\u001b[0mm eta \u001b[36m0:00:01\u001b[0m[36m0:00:01\u001b[0m\n",
      "\u001b[?25hDownloading vtk-9.3.1-cp311-cp311-manylinux_2_17_x86_64.manylinux2014_x86_64.whl (92.1 MB)\n",
      "\u001b[2K   \u001b[38;2;114;156;31m━━━━━━━━━━━━━━━━━━━━━━━━━━━━━━━━━━━━━━━━\u001b[0m \u001b[32m92.1/92.1 MB\u001b[0m \u001b[31m11.0 MB/s\u001b[0m eta \u001b[36m0:00:00\u001b[0mm eta \u001b[36m0:00:01\u001b[0m[36m0:00:01\u001b[0m\n",
      "\u001b[?25hDownloading Cython-3.0.12-cp311-cp311-manylinux_2_17_x86_64.manylinux2014_x86_64.whl (3.6 MB)\n",
      "\u001b[2K   \u001b[38;2;114;156;31m━━━━━━━━━━━━━━━━━━━━━━━━━━━━━━━━━━━━━━━━\u001b[0m \u001b[32m3.6/3.6 MB\u001b[0m \u001b[31m9.9 MB/s\u001b[0m eta \u001b[36m0:00:00\u001b[0m1 MB/s\u001b[0m eta \u001b[36m0:00:01\u001b[0m\n",
      "Installing collected packages: gmsh, Cython, vtk, cadquery-ocp\n",
      "  Attempting uninstall: vtk\n",
      "    Found existing installation: vtk 9.2.6\n",
      "\u001b[1;31merror\u001b[0m: \u001b[1muninstall-distutils-installed-package\u001b[0m\n",
      "\n",
      "\u001b[31m×\u001b[0m Cannot uninstall vtk 9.2.6\n",
      "\u001b[31m╰─>\u001b[0m It is a distutils installed project and thus we cannot accurately determine which files belong to it which would lead to only a partial uninstall.\n"
     ]
    }
   ],
   "source": [
    "!pip install -r requirements.txt"
   ]
  },
  {
   "cell_type": "code",
   "execution_count": 2,
   "id": "3cb5f805-5460-46b4-afc6-3cbeb878fabf",
   "metadata": {},
   "outputs": [],
   "source": [
    "import CAD_to_OpenMC.assembly as ab"
   ]
  },
  {
   "cell_type": "code",
   "execution_count": 5,
   "id": "30880fab-b2a3-463e-8fbd-ece3e978f0aa",
   "metadata": {},
   "outputs": [],
   "source": [
    "A=ab.Assembly([\"examples/step_files/reactor_test1.step\"])"
   ]
  },
  {
   "cell_type": "code",
   "execution_count": 6,
   "id": "84df29de-04b9-44e3-9d29-872b74f4e97a",
   "metadata": {},
   "outputs": [
    {
     "name": "stdout",
     "output_type": "stream",
     "text": [
      "INFO: examples/step_files/reactor_test1.step imported - scaling\n",
      "Info    :  - Label 'Shapes/h2o' (3D)\n",
      "Info    :  - Color (0.231373, 0.380392, 0.705882) (3D & Surfaces)\n",
      "Info    :  - Label 'Shapes/uf4' (3D)\n",
      "Info    :  - Color (0.647059, 0.647059, 0.647059) (3D & Surfaces)\n",
      "Info    :  - Label 'Shapes/he' (3D)\n",
      "Info    :  - Color (0.615686, 0.811765, 0.929412) (3D & Surfaces)\n",
      "Info    :  - Label 'Shapes/zr4' (3D)\n",
      "Info    :  - Color (0.917647, 0.917647, 0.917647) (3D & Surfaces)\n",
      "Info    :  - Label 'Shapes/h2o' (3D)\n",
      "Info    :  - Color (0.615686, 0.811765, 0.929412) (3D & Surfaces)\n"
     ]
    }
   ],
   "source": [
    "A.import_stp_files()"
   ]
  },
  {
   "cell_type": "code",
   "execution_count": 8,
   "id": "5577ac46-7a57-4a99-98ca-10b2c06e98ce",
   "metadata": {},
   "outputs": [
    {
     "name": "stdout",
     "output_type": "stream",
     "text": [
      "INFO: storing temporary data in directory: dagmc_20250221_140231.180175\n"
     ]
    },
    {
     "ename": "FileExistsError",
     "evalue": "[Errno 17] File exists: 'dagmc_20250221_140231.180175'",
     "output_type": "error",
     "traceback": [
      "\u001b[0;31m---------------------------------------------------------------------------\u001b[0m",
      "\u001b[0;31mFileExistsError\u001b[0m                           Traceback (most recent call last)",
      "Cell \u001b[0;32mIn[8], line 1\u001b[0m\n\u001b[0;32m----> 1\u001b[0m \u001b[43mA\u001b[49m\u001b[38;5;241;43m.\u001b[39;49m\u001b[43msolids_to_h5m\u001b[49m\u001b[43m(\u001b[49m\u001b[43mh5m_filename\u001b[49m\u001b[38;5;241;43m=\u001b[39;49m\u001b[38;5;124;43m\"\u001b[39;49m\u001b[38;5;124;43mreactor_test1.h5m\u001b[39;49m\u001b[38;5;124;43m\"\u001b[39;49m\u001b[43m,\u001b[49m\u001b[43m \u001b[49m\u001b[43mbackend\u001b[49m\u001b[38;5;241;43m=\u001b[39;49m\u001b[38;5;124;43m\"\u001b[39;49m\u001b[38;5;124;43mstl2\u001b[39;49m\u001b[38;5;124;43m\"\u001b[39;49m\u001b[43m)\u001b[49m\n",
      "File \u001b[0;32m~/micromamba/envs/jlab/lib/python3.11/site-packages/CAD_to_OpenMC/assembly.py:518\u001b[0m, in \u001b[0;36mAssembly.solids_to_h5m\u001b[0;34m(self, brep_filename, h5m_filename, samples, backend, heal, **kwargs)\u001b[0m\n\u001b[1;32m    516\u001b[0m h5m_path\u001b[38;5;241m=\u001b[39mpl\u001b[38;5;241m.\u001b[39mPath(h5m_filename)\n\u001b[1;32m    517\u001b[0m os\u001b[38;5;241m.\u001b[39mchdir(h5m_path\u001b[38;5;241m.\u001b[39mparent)\n\u001b[0;32m--> 518\u001b[0m \u001b[43m\u001b[49m\u001b[38;5;28;43;01mwith\u001b[39;49;00m\u001b[43m \u001b[49m\u001b[43mmesher_datadir\u001b[49m\u001b[43m(\u001b[49m\u001b[38;5;28;43mself\u001b[39;49m\u001b[38;5;241;43m.\u001b[39;49m\u001b[43m_datadir_name\u001b[49m\u001b[43m(\u001b[49m\u001b[43mh5m_path\u001b[49m\u001b[38;5;241;43m.\u001b[39;49m\u001b[43mname\u001b[49m\u001b[43m)\u001b[49m\u001b[43m,\u001b[49m\u001b[38;5;28;43mself\u001b[39;49m\u001b[38;5;241;43m.\u001b[39;49m\u001b[43mcleanup\u001b[49m\u001b[43m,\u001b[49m\u001b[43m \u001b[49m\u001b[43mmovein\u001b[49m\u001b[38;5;241;43m=\u001b[39;49m\u001b[38;5;28;43;01mTrue\u001b[39;49;00m\u001b[43m)\u001b[49m\u001b[43m \u001b[49m\u001b[38;5;28;43;01mas\u001b[39;49;00m\u001b[43m \u001b[49m\u001b[43mdatadir\u001b[49m\u001b[43m:\u001b[49m\n\u001b[1;32m    519\u001b[0m \u001b[43m    \u001b[49m\u001b[43mmesher_config\u001b[49m\u001b[43m[\u001b[49m\u001b[38;5;124;43m\"\u001b[39;49m\u001b[38;5;124;43mentities\u001b[39;49m\u001b[38;5;124;43m\"\u001b[39;49m\u001b[43m]\u001b[49m\u001b[43m \u001b[49m\u001b[38;5;241;43m=\u001b[39;49m\u001b[43m \u001b[49m\u001b[38;5;28;43mself\u001b[39;49m\u001b[38;5;241;43m.\u001b[39;49m\u001b[43mentities\u001b[49m\n\u001b[1;32m    520\u001b[0m \u001b[43m    \u001b[49m\u001b[43mmeshgen\u001b[49m\u001b[43m \u001b[49m\u001b[38;5;241;43m=\u001b[39;49m\u001b[43m \u001b[49m\u001b[43mam\u001b[49m\u001b[38;5;241;43m.\u001b[39;49m\u001b[43mmeshers\u001b[49m\u001b[38;5;241;43m.\u001b[39;49m\u001b[43mget\u001b[49m\u001b[43m(\u001b[49m\u001b[43mbackend\u001b[49m\u001b[43m,\u001b[49m\u001b[43m \u001b[49m\u001b[38;5;241;43m*\u001b[39;49m\u001b[38;5;241;43m*\u001b[39;49m\u001b[43mmesher_config\u001b[49m\u001b[43m)\u001b[49m\n",
      "File \u001b[0;32m~/micromamba/envs/jlab/lib/python3.11/contextlib.py:137\u001b[0m, in \u001b[0;36m_GeneratorContextManager.__enter__\u001b[0;34m(self)\u001b[0m\n\u001b[1;32m    135\u001b[0m \u001b[38;5;28;01mdel\u001b[39;00m \u001b[38;5;28mself\u001b[39m\u001b[38;5;241m.\u001b[39margs, \u001b[38;5;28mself\u001b[39m\u001b[38;5;241m.\u001b[39mkwds, \u001b[38;5;28mself\u001b[39m\u001b[38;5;241m.\u001b[39mfunc\n\u001b[1;32m    136\u001b[0m \u001b[38;5;28;01mtry\u001b[39;00m:\n\u001b[0;32m--> 137\u001b[0m     \u001b[38;5;28;01mreturn\u001b[39;00m \u001b[38;5;28mnext\u001b[39m(\u001b[38;5;28mself\u001b[39m\u001b[38;5;241m.\u001b[39mgen)\n\u001b[1;32m    138\u001b[0m \u001b[38;5;28;01mexcept\u001b[39;00m \u001b[38;5;167;01mStopIteration\u001b[39;00m:\n\u001b[1;32m    139\u001b[0m     \u001b[38;5;28;01mraise\u001b[39;00m \u001b[38;5;167;01mRuntimeError\u001b[39;00m(\u001b[38;5;124m\"\u001b[39m\u001b[38;5;124mgenerator didn\u001b[39m\u001b[38;5;124m'\u001b[39m\u001b[38;5;124mt yield\u001b[39m\u001b[38;5;124m\"\u001b[39m) \u001b[38;5;28;01mfrom\u001b[39;00m\u001b[38;5;250m \u001b[39m\u001b[38;5;28;01mNone\u001b[39;00m\n",
      "File \u001b[0;32m~/micromamba/envs/jlab/lib/python3.11/site-packages/CAD_to_OpenMC/datadirectory.py:10\u001b[0m, in \u001b[0;36mmesher_datadir\u001b[0;34m(path, delete_intermediate, movein)\u001b[0m\n\u001b[1;32m      8\u001b[0m \u001b[38;5;250m\u001b[39m\u001b[38;5;124;03m\"\"\"Changes working directory and returns to previous on exit.\"\"\"\u001b[39;00m\n\u001b[1;32m      9\u001b[0m prev_cwd \u001b[38;5;241m=\u001b[39m Path\u001b[38;5;241m.\u001b[39mcwd()\n\u001b[0;32m---> 10\u001b[0m \u001b[43mPath\u001b[49m\u001b[43m(\u001b[49m\u001b[43mpath\u001b[49m\u001b[43m)\u001b[49m\u001b[38;5;241;43m.\u001b[39;49m\u001b[43mmkdir\u001b[49m\u001b[43m(\u001b[49m\u001b[43mparents\u001b[49m\u001b[38;5;241;43m=\u001b[39;49m\u001b[38;5;28;43;01mTrue\u001b[39;49;00m\u001b[43m,\u001b[49m\u001b[43m \u001b[49m\u001b[43mexist_ok\u001b[49m\u001b[38;5;241;43m=\u001b[39;49m\u001b[38;5;28;43;01mFalse\u001b[39;49;00m\u001b[43m)\u001b[49m\n\u001b[1;32m     11\u001b[0m \u001b[38;5;28;01mif\u001b[39;00m movein:\n\u001b[1;32m     12\u001b[0m     os\u001b[38;5;241m.\u001b[39mchdir(path)\n",
      "File \u001b[0;32m~/micromamba/envs/jlab/lib/python3.11/pathlib.py:1116\u001b[0m, in \u001b[0;36mPath.mkdir\u001b[0;34m(self, mode, parents, exist_ok)\u001b[0m\n\u001b[1;32m   1112\u001b[0m \u001b[38;5;250m\u001b[39m\u001b[38;5;124;03m\"\"\"\u001b[39;00m\n\u001b[1;32m   1113\u001b[0m \u001b[38;5;124;03mCreate a new directory at this given path.\u001b[39;00m\n\u001b[1;32m   1114\u001b[0m \u001b[38;5;124;03m\"\"\"\u001b[39;00m\n\u001b[1;32m   1115\u001b[0m \u001b[38;5;28;01mtry\u001b[39;00m:\n\u001b[0;32m-> 1116\u001b[0m     \u001b[43mos\u001b[49m\u001b[38;5;241;43m.\u001b[39;49m\u001b[43mmkdir\u001b[49m\u001b[43m(\u001b[49m\u001b[38;5;28;43mself\u001b[39;49m\u001b[43m,\u001b[49m\u001b[43m \u001b[49m\u001b[43mmode\u001b[49m\u001b[43m)\u001b[49m\n\u001b[1;32m   1117\u001b[0m \u001b[38;5;28;01mexcept\u001b[39;00m \u001b[38;5;167;01mFileNotFoundError\u001b[39;00m:\n\u001b[1;32m   1118\u001b[0m     \u001b[38;5;28;01mif\u001b[39;00m \u001b[38;5;129;01mnot\u001b[39;00m parents \u001b[38;5;129;01mor\u001b[39;00m \u001b[38;5;28mself\u001b[39m\u001b[38;5;241m.\u001b[39mparent \u001b[38;5;241m==\u001b[39m \u001b[38;5;28mself\u001b[39m:\n",
      "\u001b[0;31mFileExistsError\u001b[0m: [Errno 17] File exists: 'dagmc_20250221_140231.180175'"
     ]
    }
   ],
   "source": [
    "A.solids_to_h5m(h5m_filename=\"reactor_test1.h5m\", backend=\"stl2\")"
   ]
  },
  {
   "cell_type": "code",
   "execution_count": 10,
   "id": "880b2d04-a5ee-4b69-a586-41f068e5851b",
   "metadata": {},
   "outputs": [
    {
     "name": "stdout",
     "output_type": "stream",
     "text": [
      "Requirement already satisfied: openmc in /home/erkn/micromamba/envs/jlab/lib/python3.11/site-packages (0.15.0)\n",
      "Requirement already satisfied: numpy>=1.9 in /home/erkn/micromamba/envs/jlab/lib/python3.11/site-packages (from openmc) (1.26.4)\n",
      "Requirement already satisfied: h5py in /home/erkn/micromamba/envs/jlab/lib/python3.11/site-packages (from openmc) (3.12.1)\n",
      "Requirement already satisfied: scipy in /home/erkn/micromamba/envs/jlab/lib/python3.11/site-packages (from openmc) (1.15.1)\n",
      "Requirement already satisfied: ipython in /home/erkn/micromamba/envs/jlab/lib/python3.11/site-packages (from openmc) (8.31.0)\n",
      "Requirement already satisfied: matplotlib in /home/erkn/micromamba/envs/jlab/lib/python3.11/site-packages (from openmc) (3.10.0)\n",
      "Requirement already satisfied: pandas in /home/erkn/micromamba/envs/jlab/lib/python3.11/site-packages (from openmc) (2.2.2)\n",
      "Requirement already satisfied: lxml in /home/erkn/micromamba/envs/jlab/lib/python3.11/site-packages (from openmc) (5.3.0)\n",
      "Requirement already satisfied: uncertainties in /home/erkn/micromamba/envs/jlab/lib/python3.11/site-packages (from openmc) (3.2.2)\n",
      "Requirement already satisfied: setuptools in /home/erkn/micromamba/envs/jlab/lib/python3.11/site-packages (from openmc) (75.8.0)\n",
      "Requirement already satisfied: mpi4py>=3.1.1 in /home/erkn/micromamba/envs/jlab/lib/python3.11/site-packages (from h5py->openmc) (4.0.1)\n",
      "Requirement already satisfied: decorator in /home/erkn/micromamba/envs/jlab/lib/python3.11/site-packages (from ipython->openmc) (5.1.1)\n",
      "Requirement already satisfied: jedi>=0.16 in /home/erkn/micromamba/envs/jlab/lib/python3.11/site-packages (from ipython->openmc) (0.19.2)\n",
      "Requirement already satisfied: matplotlib-inline in /home/erkn/micromamba/envs/jlab/lib/python3.11/site-packages (from ipython->openmc) (0.1.7)\n",
      "Requirement already satisfied: pexpect>4.3 in /home/erkn/micromamba/envs/jlab/lib/python3.11/site-packages (from ipython->openmc) (4.9.0)\n",
      "Requirement already satisfied: prompt_toolkit<3.1.0,>=3.0.41 in /home/erkn/micromamba/envs/jlab/lib/python3.11/site-packages (from ipython->openmc) (3.0.50)\n",
      "Requirement already satisfied: pygments>=2.4.0 in /home/erkn/micromamba/envs/jlab/lib/python3.11/site-packages (from ipython->openmc) (2.19.1)\n",
      "Requirement already satisfied: stack_data in /home/erkn/micromamba/envs/jlab/lib/python3.11/site-packages (from ipython->openmc) (0.6.3)\n",
      "Requirement already satisfied: traitlets>=5.13.0 in /home/erkn/micromamba/envs/jlab/lib/python3.11/site-packages (from ipython->openmc) (5.14.3)\n",
      "Requirement already satisfied: typing_extensions>=4.6 in /home/erkn/micromamba/envs/jlab/lib/python3.11/site-packages (from ipython->openmc) (4.12.2)\n",
      "Requirement already satisfied: contourpy>=1.0.1 in /home/erkn/micromamba/envs/jlab/lib/python3.11/site-packages (from matplotlib->openmc) (1.3.1)\n",
      "Requirement already satisfied: cycler>=0.10 in /home/erkn/micromamba/envs/jlab/lib/python3.11/site-packages (from matplotlib->openmc) (0.12.1)\n",
      "Requirement already satisfied: fonttools>=4.22.0 in /home/erkn/micromamba/envs/jlab/lib/python3.11/site-packages (from matplotlib->openmc) (4.55.6)\n",
      "Requirement already satisfied: kiwisolver>=1.3.1 in /home/erkn/micromamba/envs/jlab/lib/python3.11/site-packages (from matplotlib->openmc) (1.4.7)\n",
      "Requirement already satisfied: packaging>=20.0 in /home/erkn/micromamba/envs/jlab/lib/python3.11/site-packages (from matplotlib->openmc) (24.2)\n",
      "Requirement already satisfied: pillow>=8 in /home/erkn/micromamba/envs/jlab/lib/python3.11/site-packages (from matplotlib->openmc) (10.0.0)\n",
      "Requirement already satisfied: pyparsing>=2.3.1 in /home/erkn/micromamba/envs/jlab/lib/python3.11/site-packages (from matplotlib->openmc) (3.2.1)\n",
      "Requirement already satisfied: python-dateutil>=2.7 in /home/erkn/micromamba/envs/jlab/lib/python3.11/site-packages (from matplotlib->openmc) (2.9.0.post0)\n",
      "Requirement already satisfied: pytz>=2020.1 in /home/erkn/micromamba/envs/jlab/lib/python3.11/site-packages (from pandas->openmc) (2024.2)\n",
      "Requirement already satisfied: tzdata>=2022.7 in /home/erkn/micromamba/envs/jlab/lib/python3.11/site-packages (from pandas->openmc) (2025.1)\n",
      "Requirement already satisfied: parso<0.9.0,>=0.8.4 in /home/erkn/micromamba/envs/jlab/lib/python3.11/site-packages (from jedi>=0.16->ipython->openmc) (0.8.4)\n",
      "Requirement already satisfied: ptyprocess>=0.5 in /home/erkn/micromamba/envs/jlab/lib/python3.11/site-packages (from pexpect>4.3->ipython->openmc) (0.7.0)\n",
      "Requirement already satisfied: wcwidth in /home/erkn/micromamba/envs/jlab/lib/python3.11/site-packages (from prompt_toolkit<3.1.0,>=3.0.41->ipython->openmc) (0.2.13)\n",
      "Requirement already satisfied: six>=1.5 in /home/erkn/micromamba/envs/jlab/lib/python3.11/site-packages (from python-dateutil>=2.7->matplotlib->openmc) (1.17.0)\n",
      "Requirement already satisfied: executing>=1.2.0 in /home/erkn/micromamba/envs/jlab/lib/python3.11/site-packages (from stack_data->ipython->openmc) (2.1.0)\n",
      "Requirement already satisfied: asttokens>=2.1.0 in /home/erkn/micromamba/envs/jlab/lib/python3.11/site-packages (from stack_data->ipython->openmc) (3.0.0)\n",
      "Requirement already satisfied: pure_eval in /home/erkn/micromamba/envs/jlab/lib/python3.11/site-packages (from stack_data->ipython->openmc) (0.2.3)\n",
      "Note: you may need to restart the kernel to use updated packages.\n"
     ]
    }
   ],
   "source": [
    "pip install openmc"
   ]
  },
  {
   "cell_type": "code",
   "execution_count": null,
   "id": "b5408f21-b8f9-4dd2-aa42-ac7b4591d8a1",
   "metadata": {},
   "outputs": [],
   "source": []
  }
 ],
 "metadata": {
  "kernelspec": {
   "display_name": "Python 3 (ipykernel)",
   "language": "python",
   "name": "python3"
  },
  "language_info": {
   "codemirror_mode": {
    "name": "ipython",
    "version": 3
   },
   "file_extension": ".py",
   "mimetype": "text/x-python",
   "name": "python",
   "nbconvert_exporter": "python",
   "pygments_lexer": "ipython3",
   "version": "3.11.8"
  }
 },
 "nbformat": 4,
 "nbformat_minor": 5
}
