{
 "cells": [
  {
   "cell_type": "markdown",
   "id": "a3416a9b-3e3d-4980-97d6-a9e2a09b6c57",
   "metadata": {},
   "source": [
    "# Examples of using CAD_to_OpenMC and various ways of manipulating the material tags in the final geometry file\n",
    "In this notebook we will show some different ways with which it is possible to manipulate the material tags that are written to the output h5m-geometry files.\n",
    "First step is of course to enable CAD_to_OpenMC, second to create the meshed files, thirdly we will create OpenMC-simulations, to showcase how to do it."
   ]
  },
  {
   "cell_type": "markdown",
   "id": "f1207c32-174c-4a17-b8c4-1b2b44fce84f",
   "metadata": {},
   "source": [
    "# Install cad-to-openmc in this notebook, if it is not already available\n",
    "The branch which picks a moba version is needed because there is not yet an official build of the moab-database library published through PyPi (although this is scheduled for next release)."
   ]
  },
  {
   "cell_type": "code",
   "execution_count": 1,
   "id": "4e442377-bf83-471e-99ec-873e3ce57b31",
   "metadata": {},
   "outputs": [
    {
     "name": "stdout",
     "output_type": "stream",
     "text": [
      "Found installed CAD_to_OpenMC.\n"
     ]
    }
   ],
   "source": [
    "import sys\n",
    "import subprocess as sp\n",
    "pyv = f\"{sys.version_info.major}{sys.version_info.minor}\"\n",
    "try:\n",
    "    import CAD_to_OpenMC.assembly as ab\n",
    "    print(\"Found installed CAD_to_OpenMC.\")\n",
    "except ImportError as e:\n",
    "    wheelstring = f\"https://github.com/shimwell/wheels/raw/refs/heads/main/moab/moab-wheels-ubuntu-latest/moab-5.5.1-cp{pyv}-cp{pyv}-manylinux_2_28_x86_64.whl\"\n",
    "    sp.run([sys.executable,\"-m\",\"pip\",\"install\",wheelstring])\n",
    "    sp.run([sys.executable,\"-m\",\"pip\",\"install\",\"cad-to-openmc\"])\n",
    "    import CAD_to_OpenMC.assembly as ab"
   ]
  },
  {
   "cell_type": "code",
   "execution_count": 17,
   "id": "c59ecc6d-664f-4613-9b4c-ba910df376d3",
   "metadata": {},
   "outputs": [],
   "source": [
    "import importlib.util\n",
    "if not importlib.util.find_spec(\"openmc\"):\n",
    "    try:\n",
    "        sp.run([sys.executable,\"-m\",\"pip\",\"install\", \"openmc\"])\n",
    "    except:\n",
    "        wheelstring = f\"https://github.com/shimwell/wheels/raw/refs/heads/main/openmc/openmc-0.15.1.dev0-cp{pyv}-cp{pyv}-linux_x86_64.whl\"\n",
    "        sp.run([sys.executable,\"-m\",\"pip\",\"install\",wheelstring])"
   ]
  },
  {
   "cell_type": "markdown",
   "id": "1d106c09-9a56-471c-b7be-0b88b12a08ca",
   "metadata": {},
   "source": [
    "## Material tags in the output file\n",
    "By default, CAD_to_OpenMC uses the 1st part of the part name defined in the CAD-model as a material tag for use with particle transport. By 1st part is understood any alphanumeric sequence up to aa whitespace, underscore, or \"@\". This means that the part names \"steel pipe\", \"steel_flange\", \"steel@wall\" will all be tagged as being made of the material \"steel\". It is possible to change this behaviour, though.\n",
    "\n",
    "The file ```pincell1.step``` contains a simple description of a pin with 4 distinct parts tagged as \"h2o outer\", \"h2o inner\", \"zirconium\", and \"uo2\". While it is possible to define two identical materials with different names in OpenMC, this is often inconvenient. Using a python dictionary approach we may use regular expressions to map material tags to part names. Like this:"
   ]
  },
  {
   "cell_type": "code",
   "execution_count": null,
   "id": "8f21f72e-b0f9-44d4-8d32-418e29f274d3",
   "metadata": {},
   "outputs": [],
   "source": [
    "tags={'h2.*':'water','zirconium':'Zi','uo[0-9]':'uranium_oxide'}\n",
    "A = ab.Assembly(['examples/step_files/'])\n",
    "A.run(h5m_filename=\"retagged0.h5m\", tags=tags)"
   ]
  },
  {
   "cell_type": "markdown",
   "id": "e416cc09-7527-41c5-8638-a7cccd0cf06e",
   "metadata": {},
   "source": [
    "This will create a discretized geometry with material tags: \"water\",\"Zi\", and \"uranium_oxide\", where \"water\" is applied to both inner and outer water parts.\n",
    "\n",
    "Another option to manipulate the material labels is to edit the default delimiter for splitting the original label. Say you want to make a difference between inner and outer water. This could be targeted as:"
   ]
  },
  {
   "cell_type": "code",
   "execution_count": null,
   "id": "c8d6c542",
   "metadata": {},
   "outputs": [],
   "source": [
    "B = ab.Assembly(['examples/step_files/pincell1.step'])\n",
    "B.set_tag_delim('_')\n",
    "B.run(h5m_filename=\"retagged1.h5m\")"
   ]
  },
  {
   "cell_type": "markdown",
   "id": "c71100df-3200-4aa1-98f8-0c9600873ac8",
   "metadata": {},
   "source": [
    "The result would be that the tags propagated to the output file are identical to the part names in full: ```\"h2o outer\", \"h2o inner\", \"zirconium\", \"uo2\"```.\n",
    "\n",
    "Lastly, a third possibility is to smiply supply a list of material label to be applied to the parts in the sequence they appear in the step-file."
   ]
  },
  {
   "cell_type": "code",
   "execution_count": null,
   "id": "491a59c3-b65d-45e5-ac97-0cd1cbe9aec1",
   "metadata": {},
   "outputs": [],
   "source": [
    "stags = [\"mat0\", \"mat1\", \"mat2\", \"mat3\"]\n",
    "C = ab.Assembly(['examples/step_files/pincell1.step'])\n",
    "C.run(h5m_filename=\"retagged2.h5m\", sequential_tags=stags)"
   ]
  }
 ],
 "metadata": {
  "kernelspec": {
   "display_name": "Python 3 (ipykernel)",
   "language": "python",
   "name": "python3"
  },
  "language_info": {
   "codemirror_mode": {
    "name": "ipython",
    "version": 3
   },
   "file_extension": ".py",
   "mimetype": "text/x-python",
   "name": "python",
   "nbconvert_exporter": "python",
   "pygments_lexer": "ipython3",
   "version": "3.11.8"
  }
 },
 "nbformat": 4,
 "nbformat_minor": 5
}
